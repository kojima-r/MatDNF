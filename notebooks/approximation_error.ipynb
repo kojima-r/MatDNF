{
 "cells": [
  {
   "cell_type": "markdown",
   "metadata": {},
   "source": [
    "# Runtime comparison for various implementations of `approximation_error()`\n"
   ]
  },
  {
   "cell_type": "code",
   "execution_count": 1,
   "metadata": {},
   "outputs": [],
   "source": [
    "%load_ext autoreload\n",
    "%autoreload 2"
   ]
  },
  {
   "cell_type": "code",
   "execution_count": 2,
   "metadata": {},
   "outputs": [],
   "source": [
    "from pathlib import Path\n",
    "\n",
    "import cupy as cp\n",
    "import jax\n",
    "import jax.numpy as jnp\n",
    "import numpy as np\n",
    "\n",
    "from mat_dnf.jax import losses as jlosses\n",
    "from mat_dnf.numpy import losses\n",
    "\n",
    "jax.config.update(\"jax_enable_x64\", True)"
   ]
  },
  {
   "cell_type": "code",
   "execution_count": 3,
   "metadata": {},
   "outputs": [],
   "source": [
    "sample_dir = \"sample_0\"\n",
    "array_dir = Path(\"../tests/resources/approximation_error\") / sample_dir\n",
    "assert array_dir.exists()"
   ]
  },
  {
   "cell_type": "markdown",
   "metadata": {},
   "source": [
    "### Numpy\n"
   ]
  },
  {
   "cell_type": "code",
   "execution_count": 4,
   "metadata": {},
   "outputs": [],
   "source": [
    "input_dir, _, input_filenames = next((array_dir / \"input\").walk())\n",
    "output_dir, _, output_filenames = next(array_dir.walk())\n",
    "\n",
    "input_arrays = {(array_dir / f).stem: np.load(input_dir / f) for f in input_filenames}\n",
    "output_arrays = {\n",
    "    (array_dir / f).stem: np.load(output_dir / f) for f in output_filenames\n",
    "}"
   ]
  },
  {
   "cell_type": "code",
   "execution_count": null,
   "metadata": {},
   "outputs": [],
   "source": [
    "%timeit er_k_th, c_th, d_k_th = losses.approximation_error(**input_arrays)"
   ]
  },
  {
   "cell_type": "markdown",
   "metadata": {},
   "source": [
    "### Cupy\n"
   ]
  },
  {
   "cell_type": "code",
   "execution_count": 6,
   "metadata": {},
   "outputs": [],
   "source": [
    "input_dir, _, input_filenames = next((array_dir / \"input\").walk())\n",
    "output_dir, _, output_filenames = next(array_dir.walk())\n",
    "\n",
    "cupy_input_arrays = {\n",
    "    (array_dir / f).stem: cp.asarray(np.load(input_dir / f)) for f in input_filenames\n",
    "}\n",
    "cupy_input_arrays = {\n",
    "    k: v if k not in (\"split_c\", \"split_d_k\") else v.item()\n",
    "    for k, v in cupy_input_arrays.items()\n",
    "}\n",
    "cupy_output_arrays = {\n",
    "    (array_dir / f).stem: cp.asarray(np.load(output_dir / f)) for f in output_filenames\n",
    "}"
   ]
  },
  {
   "cell_type": "code",
   "execution_count": null,
   "metadata": {},
   "outputs": [],
   "source": [
    "%timeit er_k_th, c_th, d_k_th = losses.approximation_error(**cupy_input_arrays)"
   ]
  },
  {
   "cell_type": "markdown",
   "metadata": {},
   "source": [
    "### JAX (CPU)\n"
   ]
  },
  {
   "cell_type": "markdown",
   "metadata": {},
   "source": [
    "(Includes compile as it is the realistic use case)\n"
   ]
  },
  {
   "cell_type": "code",
   "execution_count": null,
   "metadata": {},
   "outputs": [],
   "source": [
    "cpu_device = jax.devices(\"cpu\")[0]  # ALL cpu\n",
    "cpu_device"
   ]
  },
  {
   "cell_type": "code",
   "execution_count": 9,
   "metadata": {},
   "outputs": [],
   "source": [
    "input_jax_arrays_cpu = {\n",
    "    k: jax.device_put(jnp.array(v), device=cpu_device)\n",
    "    if k not in (\"split_c\", \"split_d_k\")\n",
    "    else jnp.array(v).item()\n",
    "    for k, v in input_arrays.items()\n",
    "}"
   ]
  },
  {
   "cell_type": "code",
   "execution_count": null,
   "metadata": {},
   "outputs": [],
   "source": [
    "%%timeit\n",
    "er_k_th, c_th, d_k_th = jlosses.approximation_error(**input_jax_arrays_cpu)\n",
    "er_k_th.block_until_ready()\n",
    "c_th.block_until_ready()\n",
    "d_k_th.block_until_ready()"
   ]
  },
  {
   "cell_type": "markdown",
   "metadata": {},
   "source": [
    "### JAX (GPU)\n"
   ]
  },
  {
   "cell_type": "markdown",
   "metadata": {},
   "source": [
    "p.s. I only have one GPU; use `jax.sharding` for multiple GPUs\n"
   ]
  },
  {
   "cell_type": "code",
   "execution_count": null,
   "metadata": {},
   "outputs": [],
   "source": [
    "gpu_device = jax.devices(\"gpu\")[0]\n",
    "gpu_device"
   ]
  },
  {
   "cell_type": "code",
   "execution_count": 12,
   "metadata": {},
   "outputs": [],
   "source": [
    "input_jax_arrays_gpu = {\n",
    "    k: jax.device_put(jnp.array(v), device=gpu_device)\n",
    "    if k not in (\"split_c\", \"split_d_k\")\n",
    "    else int(v)\n",
    "    for k, v in input_arrays.items()\n",
    "}"
   ]
  },
  {
   "cell_type": "code",
   "execution_count": null,
   "metadata": {},
   "outputs": [],
   "source": [
    "%%timeit\n",
    "er_k_th, c_th, d_k_th = jlosses.approximation_error(**input_jax_arrays_gpu)\n",
    "er_k_th.block_until_ready()\n",
    "c_th.block_until_ready()\n",
    "d_k_th.block_until_ready()"
   ]
  }
 ],
 "metadata": {
  "kernelspec": {
   "display_name": ".venv",
   "language": "python",
   "name": "python3"
  },
  "language_info": {
   "codemirror_mode": {
    "name": "ipython",
    "version": 3
   },
   "file_extension": ".py",
   "mimetype": "text/x-python",
   "name": "python",
   "nbconvert_exporter": "python",
   "pygments_lexer": "ipython3",
   "version": "3.12.8"
  }
 },
 "nbformat": 4,
 "nbformat_minor": 2
}
