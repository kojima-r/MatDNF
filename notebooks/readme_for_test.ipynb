{
 "cells": [
  {
   "cell_type": "markdown",
   "metadata": {},
   "source": [
    "# Python equivalent for `readme_for_test.m`\n"
   ]
  },
  {
   "cell_type": "markdown",
   "metadata": {},
   "source": [
    "Automatically reload module on change. Useful for development\n"
   ]
  },
  {
   "cell_type": "code",
   "execution_count": null,
   "metadata": {},
   "outputs": [],
   "source": [
    "%load_ext autoreload\n",
    "%autoreload 2"
   ]
  },
  {
   "cell_type": "markdown",
   "metadata": {},
   "source": [
    "Library imports for NumPy, CuPy, and JAX version\n"
   ]
  },
  {
   "cell_type": "code",
   "execution_count": 2,
   "metadata": {},
   "outputs": [],
   "source": [
    "import functools\n",
    "import time\n",
    "from typing import Any, Callable, Literal, cast\n",
    "\n",
    "import cupy as cp\n",
    "import jax\n",
    "import jax.numpy as jnp\n",
    "import numpy as np\n",
    "from numpy.random import Generator\n",
    "\n",
    "# JAX-MatDNF\n",
    "from mat_dnf.jax.losses import (\n",
    "    acc_classi as jacc_classi,\n",
    ")\n",
    "from mat_dnf.jax.losses import (\n",
    "    acc_dnf as jacc_dnf,\n",
    ")\n",
    "from mat_dnf.jax.losses import (\n",
    "    logi_conseq as jlogi_conseq,\n",
    ")\n",
    "from mat_dnf.jax.losses import (\n",
    "    logi_equiv as jlogi_equiv,\n",
    ")\n",
    "from mat_dnf.jax.models import MatDNF as JAXMatDNF\n",
    "from mat_dnf.jax.models import train_mat_dnf as jtrain_mat_dnf\n",
    "\n",
    "# NumPy/CuPy-MatDNF\n",
    "from mat_dnf.numpy.losses import acc_classi, acc_dnf, logi_conseq, logi_equiv\n",
    "from mat_dnf.numpy.models import (\n",
    "    MatDNF,\n",
    "    train_mat_dnf,\n",
    ")\n",
    "\n",
    "# Utility functions\n",
    "from mat_dnf.simplifications import simp_dnf\n",
    "from mat_dnf.utils import (\n",
    "    MeanLogger,\n",
    "    n_parity_function,\n",
    "    random_dnf,\n",
    "    random_function,\n",
    "    read_nth_dnf,\n",
    ")\n",
    "\n",
    "# Enable 64-bit datatype in JAX\n",
    "jax.config.update(\"jax_enable_x64\", True)"
   ]
  },
  {
   "cell_type": "markdown",
   "metadata": {},
   "source": [
    "## Parameters\n"
   ]
  },
  {
   "cell_type": "markdown",
   "metadata": {},
   "source": [
    "### Problem size and selection\n"
   ]
  },
  {
   "cell_type": "code",
   "execution_count": 3,
   "metadata": {},
   "outputs": [],
   "source": [
    "TargetFunction = Literal[\n",
    "    \"random_dnf\", \"random_function\", \"n_parity_function\", \"read_nth_dnf\"\n",
    "]\n",
    "target_fn_name: TargetFunction = \"read_nth_dnf\""
   ]
  },
  {
   "cell_type": "markdown",
   "metadata": {},
   "source": [
    "When generating DNF\n"
   ]
  },
  {
   "cell_type": "code",
   "execution_count": 4,
   "metadata": {},
   "outputs": [],
   "source": [
    "# Number of bool vars\n",
    "# n = 5  # default\n",
    "n = 5\n",
    "# Maximum number of disjuncts\n",
    "# h_gen = 10  # default\n",
    "h_gen = 10\n",
    "# Number of \"enabled\" disjuncts\n",
    "# d_size = 3  # default\n",
    "d_size = 3\n",
    "# Maximum number of literals in each disjuncts\n",
    "# c_max = 5  # default\n",
    "c_max = 5\n",
    "add_noise = False"
   ]
  },
  {
   "cell_type": "markdown",
   "metadata": {},
   "source": [
    "When reading DNF\n"
   ]
  },
  {
   "cell_type": "code",
   "execution_count": 5,
   "metadata": {},
   "outputs": [],
   "source": [
    "i = 0  # i-th DNF from a (*_T.bin.csv)\n",
    "fname = \"../data/E-MTAB-1908/01_T.bin.csv\""
   ]
  },
  {
   "cell_type": "markdown",
   "metadata": {},
   "source": [
    "### Learning parameters\n"
   ]
  },
  {
   "cell_type": "code",
   "execution_count": 6,
   "metadata": {},
   "outputs": [],
   "source": [
    "alpha = 0.1\n",
    "max_try = 20  # default\n",
    "# max_try = 4\n",
    "max_itr = 500  # default\n",
    "# max_itr = 50\n",
    "# extra_itr = 0  # default\n",
    "extra_itr = 0\n",
    "Er_max = 0\n",
    "i_max = 10\n",
    "# i_max = 4\n",
    "# Domain ratio; ratio of test data vs. all possible?\n",
    "dr = 0.5  # default\n",
    "# dr = 1.0\n",
    "# Number of disjuncts in the initial guess?\n",
    "# h = 1000   # default\n",
    "h = 1000\n",
    "aa = 4"
   ]
  },
  {
   "cell_type": "markdown",
   "metadata": {},
   "source": [
    "### Data type and device selection\n"
   ]
  },
  {
   "cell_type": "markdown",
   "metadata": {},
   "source": [
    "For multiple GPUs (JAX only), refer to https://docs.jax.dev/en/latest/sharded-computation.html\n"
   ]
  },
  {
   "cell_type": "code",
   "execution_count": 7,
   "metadata": {},
   "outputs": [],
   "source": [
    "dtype = np.dtype(np.int64)\n",
    "device_name: Literal[\"gpu\", \"cpu\"] = \"gpu\""
   ]
  },
  {
   "cell_type": "markdown",
   "metadata": {},
   "source": [
    "## Compute\n"
   ]
  },
  {
   "cell_type": "markdown",
   "metadata": {},
   "source": [
    "### Select device\n"
   ]
  },
  {
   "cell_type": "code",
   "execution_count": 8,
   "metadata": {},
   "outputs": [],
   "source": [
    "xp = cp if device_name == \"gpu\" else np\n",
    "(device,) = jax.devices(device_name)\n",
    "jax.config.update(\"jax_default_device\", device)"
   ]
  },
  {
   "cell_type": "markdown",
   "metadata": {},
   "source": [
    "### Problem generator functions\n"
   ]
  },
  {
   "cell_type": "code",
   "execution_count": 9,
   "metadata": {},
   "outputs": [],
   "source": [
    "rng = np.random.default_rng()\n",
    "\n",
    "# TODO: Explicit return typing\n",
    "match target_fn_name:\n",
    "    case \"random_dnf\":\n",
    "        target_fn: Callable[[], Any] = functools.partial(\n",
    "            random_dnf,\n",
    "            rng=rng,\n",
    "            n=n,\n",
    "            h_gen=h_gen,\n",
    "            d_size=d_size,\n",
    "            c_max=c_max,\n",
    "            add_noise=add_noise,\n",
    "            dtype=dtype,\n",
    "        )\n",
    "    case \"random_function\":\n",
    "        target_fn: Callable[[], Any] = functools.partial(\n",
    "            random_function,\n",
    "            rng=rng,\n",
    "            n=n,\n",
    "            add_noise=add_noise,\n",
    "            dtype=dtype,\n",
    "        )\n",
    "    case \"n_parity_function\":\n",
    "        target_fn: Callable[[], Any] = functools.partial(\n",
    "            n_parity_function,\n",
    "            rng=rng,\n",
    "            n=n,\n",
    "            add_noise=add_noise,\n",
    "            dtype=dtype,\n",
    "        )\n",
    "    case \"read_nth_dnf\":\n",
    "        target_fn: Callable[[], Any] = functools.partial(\n",
    "            read_nth_dnf,\n",
    "            fname=fname,\n",
    "            i=i,\n",
    "            delimiter=\",\",\n",
    "            dtype=dtype,\n",
    "        )"
   ]
  },
  {
   "cell_type": "markdown",
   "metadata": {},
   "source": [
    "### Numpy / CuPy\n"
   ]
  },
  {
   "cell_type": "markdown",
   "metadata": {},
   "source": [
    "NOTE: Ideally, the problem generator could also use CuPy's RNG,\n",
    "but since the implementation is incomplete, only the optimization loop is using it.\n"
   ]
  },
  {
   "cell_type": "code",
   "execution_count": 10,
   "metadata": {},
   "outputs": [],
   "source": [
    "if device_name == \"gpu\":\n",
    "    rng = cast(Generator, xp.random.default_rng())"
   ]
  },
  {
   "cell_type": "markdown",
   "metadata": {},
   "source": [
    "Learning starts\n"
   ]
  },
  {
   "cell_type": "code",
   "execution_count": null,
   "metadata": {},
   "outputs": [],
   "source": [
    "# Log output\n",
    "mean_logger = MeanLogger(dr=dr, l=2**n)\n",
    "for i in range(i_max):\n",
    "    # Read or generate random DNF\n",
    "    i1, i2_k = target_fn()\n",
    "    l2 = i1.shape[1]\n",
    "\n",
    "    # Split train / test data\n",
    "    x = np.floor(l2 * dr).astype(np.int64)\n",
    "    i1_dr = i1[:, :x]\n",
    "    i1_test = i1[:, x:]\n",
    "    i2_k_dr = i2_k[:x]\n",
    "    i2_k_test = i2_k[x:]\n",
    "\n",
    "    # Initialize model\n",
    "    model = MatDNF.create_random(h=h, n=i1_dr.shape[0], aa=aa, xp=xp, rng=rng)\n",
    "\n",
    "    # Transfer training data arrays to GPU\n",
    "    if device_name == \"gpu\":\n",
    "        i1_dr = cp.asarray(i1_dr)\n",
    "        i2_k_dr = cp.asarray(i2_k_dr)\n",
    "        i2_k = cp.asarray(i2_k)\n",
    "        i1 = cp.asarray(i1)\n",
    "\n",
    "    s = time.monotonic()\n",
    "    model, v_k_th, learned_dnf = train_mat_dnf(\n",
    "        model=model,\n",
    "        i_in=i1_dr,\n",
    "        i_out=i2_k_dr,\n",
    "        er_max=Er_max,\n",
    "        alpha=alpha,\n",
    "        max_itr=max_itr,\n",
    "        max_try=max_try,\n",
    "        extra_itr=extra_itr,\n",
    "        fold=i,\n",
    "        use_perturbation=True,\n",
    "        use_sam=True,\n",
    "        rng=rng,\n",
    "    )\n",
    "    e = time.monotonic()\n",
    "    elapsed_time = e - s\n",
    "\n",
    "    learned_dnf_s = simp_dnf(learned_dnf)\n",
    "    cnsq, _ = logi_conseq(learned_dnf_s, i2_k, i1)\n",
    "    eqv, _ = logi_equiv(learned_dnf_s, i2_k, i1)\n",
    "\n",
    "    mean_logger.append(\n",
    "        i1_test.shape[1],\n",
    "        elapsed_time,\n",
    "        float(acc_classi(model.d_k, v_k_th, i1, i2_k, l2, model.c)),  # type: ignore\n",
    "        float(acc_dnf(learned_dnf_s, i1, i2_k, l2)),\n",
    "        cnsq,\n",
    "        eqv,\n",
    "    )\n",
    "\n",
    "print(mean_logger)"
   ]
  },
  {
   "cell_type": "markdown",
   "metadata": {},
   "source": [
    "### JAX\n"
   ]
  },
  {
   "cell_type": "markdown",
   "metadata": {},
   "source": [
    "Initialize PRNG key\n"
   ]
  },
  {
   "cell_type": "code",
   "execution_count": 12,
   "metadata": {},
   "outputs": [],
   "source": [
    "key = jax.random.key(42)"
   ]
  },
  {
   "cell_type": "markdown",
   "metadata": {},
   "source": [
    "Learning starts\n"
   ]
  },
  {
   "cell_type": "code",
   "execution_count": null,
   "metadata": {},
   "outputs": [],
   "source": [
    "dtype = jnp.dtype(dtype)\n",
    "\n",
    "# Log output\n",
    "mean_logger = MeanLogger(dr=dr, l=2**n)\n",
    "for i in range(i_max):\n",
    "    key, model_key, train_key = jax.random.split(key, num=3)\n",
    "\n",
    "    # Read or generate random DNF\n",
    "    i1, i2_k = target_fn()\n",
    "    l2 = i1.shape[1]\n",
    "    i1 = jnp.array(i1)\n",
    "    i2_k = jnp.array(i2_k)\n",
    "\n",
    "    # Split train / test data\n",
    "    x = jnp.floor(l2 * dr).astype(jnp.int64)\n",
    "    i1_dr = i1[:, :x]\n",
    "    i1_test = i1[:, x:]\n",
    "    i2_k_dr = i2_k[:x]\n",
    "    i2_k_test = i2_k[x:]\n",
    "\n",
    "    # Initialize model\n",
    "    model = JAXMatDNF.create_random(h=h, n=i1_dr.shape[0], aa=aa, key=model_key)\n",
    "\n",
    "    s = time.monotonic()\n",
    "    # with jax.log_compiles(True):\n",
    "    model, v_k_th, learned_dnf = jtrain_mat_dnf(\n",
    "        model=model,\n",
    "        key=train_key,\n",
    "        fold=i,\n",
    "        i_in=i1_dr,\n",
    "        i_out=i2_k_dr,\n",
    "        er_max=Er_max,\n",
    "        alpha=alpha,\n",
    "        max_itr=max_itr,\n",
    "        max_try=max_try,\n",
    "        use_perturbation=False,\n",
    "        use_sam=False,\n",
    "    )\n",
    "    e = time.monotonic()\n",
    "    elapsed_time = e - s\n",
    "\n",
    "    # learned_dnf_s = jsimp_dnf(learned_dnf)\n",
    "    learned_dnf_s = jnp.array(simp_dnf(np.array(learned_dnf)))\n",
    "    cnsq, _ = jlogi_conseq(learned_dnf_s, i2_k, i1)\n",
    "    eqv, _ = jlogi_equiv(learned_dnf_s, i2_k, i1)\n",
    "\n",
    "    mean_logger.append(\n",
    "        i1_test.shape[1],\n",
    "        elapsed_time,\n",
    "        float(jacc_classi(model.d_k, v_k_th, i1, i2_k, l2, model.c)),\n",
    "        float(jacc_dnf(learned_dnf_s, i1, i2_k, l2)),\n",
    "        cnsq,\n",
    "        eqv,\n",
    "    )\n",
    "\n",
    "print(mean_logger)"
   ]
  }
 ],
 "metadata": {
  "kernelspec": {
   "display_name": ".venv",
   "language": "python",
   "name": "python3"
  },
  "language_info": {
   "codemirror_mode": {
    "name": "ipython",
    "version": 3
   },
   "file_extension": ".py",
   "mimetype": "text/x-python",
   "name": "python",
   "nbconvert_exporter": "python",
   "pygments_lexer": "ipython3",
   "version": "3.12.8"
  }
 },
 "nbformat": 4,
 "nbformat_minor": 2
}
